{
 "cells": [
  {
   "cell_type": "markdown",
   "metadata": {},
   "source": [
    "### Process for handling chessData"
   ]
  },
  {
   "cell_type": "code",
   "execution_count": 156,
   "metadata": {},
   "outputs": [],
   "source": [
    "import pandas as pd\n",
    "import numpy as np\n",
    "from chess import Board\n",
    "\n",
    "from bot_model import evaluator, board2d_embed, bitboard_embed"
   ]
  },
  {
   "cell_type": "code",
   "execution_count": 157,
   "metadata": {},
   "outputs": [
    {
     "data": {
      "text/html": [
       "<div>\n",
       "<style scoped>\n",
       "    .dataframe tbody tr th:only-of-type {\n",
       "        vertical-align: middle;\n",
       "    }\n",
       "\n",
       "    .dataframe tbody tr th {\n",
       "        vertical-align: top;\n",
       "    }\n",
       "\n",
       "    .dataframe thead th {\n",
       "        text-align: right;\n",
       "    }\n",
       "</style>\n",
       "<table border=\"1\" class=\"dataframe\">\n",
       "  <thead>\n",
       "    <tr style=\"text-align: right;\">\n",
       "      <th></th>\n",
       "      <th>FEN</th>\n",
       "      <th>Evaluation</th>\n",
       "    </tr>\n",
       "  </thead>\n",
       "  <tbody>\n",
       "    <tr>\n",
       "      <th>0</th>\n",
       "      <td>rnbqkb1r/pppppppp/B4n2/8/4P3/8/PPPP1PPP/RNBQK1...</td>\n",
       "      <td>-459</td>\n",
       "    </tr>\n",
       "    <tr>\n",
       "      <th>1</th>\n",
       "      <td>rnbqkb1r/pppppppp/5n2/1B6/4P3/8/PPPP1PPP/RNBQK...</td>\n",
       "      <td>-125</td>\n",
       "    </tr>\n",
       "    <tr>\n",
       "      <th>2</th>\n",
       "      <td>rnbqkbnr/p1pppppp/8/1p6/4P3/8/PPPP1PPP/RNBQKBN...</td>\n",
       "      <td>+198</td>\n",
       "    </tr>\n",
       "    <tr>\n",
       "      <th>3</th>\n",
       "      <td>rnbqkb1r/pppppppp/5n2/8/4P3/7N/PPPP1PPP/RNBQKB...</td>\n",
       "      <td>-155</td>\n",
       "    </tr>\n",
       "    <tr>\n",
       "      <th>4</th>\n",
       "      <td>rnbqkbnr/ppppp1pp/8/5p2/4P3/8/PPPP1PPP/RNBQKBN...</td>\n",
       "      <td>+209</td>\n",
       "    </tr>\n",
       "  </tbody>\n",
       "</table>\n",
       "</div>"
      ],
      "text/plain": [
       "                                                 FEN Evaluation\n",
       "0  rnbqkb1r/pppppppp/B4n2/8/4P3/8/PPPP1PPP/RNBQK1...       -459\n",
       "1  rnbqkb1r/pppppppp/5n2/1B6/4P3/8/PPPP1PPP/RNBQK...       -125\n",
       "2  rnbqkbnr/p1pppppp/8/1p6/4P3/8/PPPP1PPP/RNBQKBN...       +198\n",
       "3  rnbqkb1r/pppppppp/5n2/8/4P3/7N/PPPP1PPP/RNBQKB...       -155\n",
       "4  rnbqkbnr/ppppp1pp/8/5p2/4P3/8/PPPP1PPP/RNBQKBN...       +209"
      ]
     },
     "execution_count": 157,
     "metadata": {},
     "output_type": "execute_result"
    }
   ],
   "source": [
    "df = pd.read_csv('data\\\\random_evals.csv', nrows= 10000)\n",
    "df.head()"
   ]
  },
  {
   "cell_type": "code",
   "execution_count": 158,
   "metadata": {},
   "outputs": [
    {
     "data": {
      "text/html": [
       "<div>\n",
       "<style scoped>\n",
       "    .dataframe tbody tr th:only-of-type {\n",
       "        vertical-align: middle;\n",
       "    }\n",
       "\n",
       "    .dataframe tbody tr th {\n",
       "        vertical-align: top;\n",
       "    }\n",
       "\n",
       "    .dataframe thead th {\n",
       "        text-align: right;\n",
       "    }\n",
       "</style>\n",
       "<table border=\"1\" class=\"dataframe\">\n",
       "  <thead>\n",
       "    <tr style=\"text-align: right;\">\n",
       "      <th></th>\n",
       "      <th>FEN</th>\n",
       "      <th>Evaluation</th>\n",
       "    </tr>\n",
       "  </thead>\n",
       "  <tbody>\n",
       "    <tr>\n",
       "      <th>0</th>\n",
       "      <td>rnbqkb1r/pppppppp/B4n2/8/4P3/8/PPPP1PPP/RNBQK1...</td>\n",
       "      <td>-459</td>\n",
       "    </tr>\n",
       "    <tr>\n",
       "      <th>1</th>\n",
       "      <td>rnbqkb1r/pppppppp/5n2/1B6/4P3/8/PPPP1PPP/RNBQK...</td>\n",
       "      <td>-125</td>\n",
       "    </tr>\n",
       "    <tr>\n",
       "      <th>2</th>\n",
       "      <td>rnbqkbnr/p1pppppp/8/1p6/4P3/8/PPPP1PPP/RNBQKBN...</td>\n",
       "      <td>+198</td>\n",
       "    </tr>\n",
       "    <tr>\n",
       "      <th>3</th>\n",
       "      <td>rnbqkb1r/pppppppp/5n2/8/4P3/7N/PPPP1PPP/RNBQKB...</td>\n",
       "      <td>-155</td>\n",
       "    </tr>\n",
       "    <tr>\n",
       "      <th>4</th>\n",
       "      <td>rnbqkbnr/ppppp1pp/8/5p2/4P3/8/PPPP1PPP/RNBQKBN...</td>\n",
       "      <td>+209</td>\n",
       "    </tr>\n",
       "  </tbody>\n",
       "</table>\n",
       "</div>"
      ],
      "text/plain": [
       "                                                 FEN Evaluation\n",
       "0  rnbqkb1r/pppppppp/B4n2/8/4P3/8/PPPP1PPP/RNBQK1...       -459\n",
       "1  rnbqkb1r/pppppppp/5n2/1B6/4P3/8/PPPP1PPP/RNBQK...       -125\n",
       "2  rnbqkbnr/p1pppppp/8/1p6/4P3/8/PPPP1PPP/RNBQKBN...       +198\n",
       "3  rnbqkb1r/pppppppp/5n2/8/4P3/7N/PPPP1PPP/RNBQKB...       -155\n",
       "4  rnbqkbnr/ppppp1pp/8/5p2/4P3/8/PPPP1PPP/RNBQKBN...       +209"
      ]
     },
     "execution_count": 158,
     "metadata": {},
     "output_type": "execute_result"
    }
   ],
   "source": [
    "# mask method\n",
    "mask = df['Evaluation'].str.contains('#')\n",
    "\n",
    "# ones with the checkmates\n",
    "removed_df = df[mask == True]\n",
    "\n",
    "# normal position\n",
    "filtered_df = df[mask == False]\n",
    "filtered_df.head()\n"
   ]
  },
  {
   "cell_type": "code",
   "execution_count": 159,
   "metadata": {},
   "outputs": [
    {
     "name": "stdout",
     "output_type": "stream",
     "text": [
      "[-459 -125  198 -155  209]\n"
     ]
    }
   ],
   "source": [
    "board_data, targets = None, None\n",
    "\n",
    "def game_board(fen):\n",
    "    game = Board(fen)\n",
    "    return bitboard_embed(game)\n",
    "\n",
    "\n",
    "# board_data = filtered_df['FEN'].apply(game_board).to_list()\n",
    "targets = filtered_df['Evaluation'].to_numpy(dtype= int)\n",
    "print(targets[0:5])"
   ]
  },
  {
   "cell_type": "code",
   "execution_count": 160,
   "metadata": {},
   "outputs": [
    {
     "name": "stdout",
     "output_type": "stream",
     "text": [
      "data_range: 8138 <-> -8226\n",
      "data_range: FEN           rr6/ppQ2pk1/2p1q1p1/4p3/8/2P2R2/5PP1/4R1K1 w -...\n",
      "Evaluation                                                    0\n",
      "dtype: object <-> FEN           1B1r1rk1/p4ppp/2p2n2/2q5/2p5/1P3NPb/P1Q2P1P/RN...\n",
      "Evaluation                                                   +1\n",
      "dtype: object\n"
     ]
    }
   ],
   "source": [
    "print(f'data_range: {targets.max()} <-> {targets.min()}')\n",
    "print(f'data_range: {filtered_df.max()} <-> {filtered_df.min()}')"
   ]
  },
  {
   "cell_type": "code",
   "execution_count": 161,
   "metadata": {},
   "outputs": [
    {
     "name": "stderr",
     "output_type": "stream",
     "text": [
      "C:\\Users\\anshu_r9i5971\\AppData\\Local\\Temp\\ipykernel_29904\\1924023408.py:1: SettingWithCopyWarning: \n",
      "A value is trying to be set on a copy of a slice from a DataFrame\n",
      "\n",
      "See the caveats in the documentation: https://pandas.pydata.org/pandas-docs/stable/user_guide/indexing.html#returning-a-view-versus-a-copy\n",
      "  removed_df.loc[df['Evaluation'].str.contains('#-'), 'Evaluation'] = '-20000'\n",
      "C:\\Users\\anshu_r9i5971\\AppData\\Local\\Temp\\ipykernel_29904\\1924023408.py:2: SettingWithCopyWarning: \n",
      "A value is trying to be set on a copy of a slice from a DataFrame\n",
      "\n",
      "See the caveats in the documentation: https://pandas.pydata.org/pandas-docs/stable/user_guide/indexing.html#returning-a-view-versus-a-copy\n",
      "  removed_df.loc[df['Evaluation'].str.contains('#+'), 'Evaluation'] = '+20000'\n"
     ]
    },
    {
     "data": {
      "text/html": [
       "<div>\n",
       "<style scoped>\n",
       "    .dataframe tbody tr th:only-of-type {\n",
       "        vertical-align: middle;\n",
       "    }\n",
       "\n",
       "    .dataframe tbody tr th {\n",
       "        vertical-align: top;\n",
       "    }\n",
       "\n",
       "    .dataframe thead th {\n",
       "        text-align: right;\n",
       "    }\n",
       "</style>\n",
       "<table border=\"1\" class=\"dataframe\">\n",
       "  <thead>\n",
       "    <tr style=\"text-align: right;\">\n",
       "      <th></th>\n",
       "      <th>FEN</th>\n",
       "      <th>Evaluation</th>\n",
       "    </tr>\n",
       "  </thead>\n",
       "  <tbody>\n",
       "    <tr>\n",
       "      <th>1088</th>\n",
       "      <td>r4rk1/pb2p1bp/6p1/2PqBp2/8/8/1P3PPP/RN1Q1RK1 b...</td>\n",
       "      <td>+20000</td>\n",
       "    </tr>\n",
       "    <tr>\n",
       "      <th>1089</th>\n",
       "      <td>r4rk1/pb2p1bp/6p1/B1Pqpp2/8/8/1P3PPP/RN1Q1RK1 ...</td>\n",
       "      <td>+20000</td>\n",
       "    </tr>\n",
       "    <tr>\n",
       "      <th>1090</th>\n",
       "      <td>r4rk1/pb2p1bp/6p1/2Pqpp2/3B4/8/1P3PPP/RN1Q1RK1...</td>\n",
       "      <td>+20000</td>\n",
       "    </tr>\n",
       "    <tr>\n",
       "      <th>1091</th>\n",
       "      <td>r4rk1/pb2p1bp/6p1/2Pqpp2/1B6/8/1P3PPP/RN1Q1RK1...</td>\n",
       "      <td>+20000</td>\n",
       "    </tr>\n",
       "    <tr>\n",
       "      <th>1092</th>\n",
       "      <td>r4rk1/pb2p1bp/6p1/2Pqpp2/8/8/1P1B1PPP/RN1Q1RK1...</td>\n",
       "      <td>+20000</td>\n",
       "    </tr>\n",
       "  </tbody>\n",
       "</table>\n",
       "</div>"
      ],
      "text/plain": [
       "                                                    FEN Evaluation\n",
       "1088  r4rk1/pb2p1bp/6p1/2PqBp2/8/8/1P3PPP/RN1Q1RK1 b...     +20000\n",
       "1089  r4rk1/pb2p1bp/6p1/B1Pqpp2/8/8/1P3PPP/RN1Q1RK1 ...     +20000\n",
       "1090  r4rk1/pb2p1bp/6p1/2Pqpp2/3B4/8/1P3PPP/RN1Q1RK1...     +20000\n",
       "1091  r4rk1/pb2p1bp/6p1/2Pqpp2/1B6/8/1P3PPP/RN1Q1RK1...     +20000\n",
       "1092  r4rk1/pb2p1bp/6p1/2Pqpp2/8/8/1P1B1PPP/RN1Q1RK1...     +20000"
      ]
     },
     "execution_count": 161,
     "metadata": {},
     "output_type": "execute_result"
    }
   ],
   "source": [
    "removed_df.loc[df['Evaluation'].str.contains('#-'), 'Evaluation'] = '-20000'  \n",
    "removed_df.loc[df['Evaluation'].str.contains('#+'), 'Evaluation'] = '+20000'  \n",
    "removed_df.head()"
   ]
  },
  {
   "cell_type": "code",
   "execution_count": 162,
   "metadata": {},
   "outputs": [],
   "source": [
    "df.loc[df['Evaluation'].str.contains('#-'), 'Evaluation'] = '-20000'  \n",
    "df.loc[df['Evaluation'].str.contains('#+'), 'Evaluation'] = '+20000'  \n",
    "\n",
    "df['Evaluation'] = pd.to_numeric(df['Evaluation'])"
   ]
  },
  {
   "cell_type": "code",
   "execution_count": 163,
   "metadata": {},
   "outputs": [],
   "source": [
    "def Robust_Scaling():\n",
    "    median = df['Evaluation'].median()\n",
    "    iqr = df['Evaluation'].quantile(0.75) - df['Evaluation'].quantile(0.25)\n",
    "\n",
    "    df['scaled'] = (df['Evaluation'] - median) / iqr\n",
    "\n",
    "def z_score():\n",
    "    df['scaled'] = (df['Evaluation'] - df['Evaluation'].mean()) / df['Evaluation'].std()\n",
    "\n",
    "def min_max_Scaling():\n",
    "    # REJECTED\n",
    "    df['scaled'] = (df['Evaluation'] - df['Evaluation'].min()) / (df['Evaluation'].max() - df['Evaluation'].min())"
   ]
  },
  {
   "cell_type": "code",
   "execution_count": 164,
   "metadata": {},
   "outputs": [
    {
     "data": {
      "image/png": "[encoded data removed]",
      "text/plain": [
       "<Figure size 640x480 with 1 Axes>"
      ]
     },
     "metadata": {},
     "output_type": "display_data"
    }
   ],
   "source": [
    "import scipy.stats as stats\n",
    "import matplotlib.pyplot as plt\n",
    "\n",
    "# Q-Q plot\n",
    "stats.probplot(df['Evaluation'], dist=\"norm\", plot=plt)\n",
    "plt.show()"
   ]
  },
  {
   "cell_type": "code",
   "execution_count": 167,
   "metadata": {},
   "outputs": [
    {
     "data": {
      "image/png": "[encoded data removed]",
      "text/plain": [
       "<Figure size 640x480 with 1 Axes>"
      ]
     },
     "metadata": {},
     "output_type": "display_data"
    }
   ],
   "source": [
    "Robust_Scaling()\n",
    "\n",
    "# Q-Q plot\n",
    "stats.probplot(df['scaled'], dist=\"norm\", plot=plt)\n",
    "plt.show()"
   ]
  },
  {
   "cell_type": "code",
   "execution_count": 166,
   "metadata": {},
   "outputs": [
    {
     "name": "stdout",
     "output_type": "stream",
     "text": [
      "FEN           rr6/ppQ2pk1/2p1q1p1/4p3/8/2P2R2/5PP1/4R1K1 w -...\n",
      "Evaluation                                                20000\n",
      "scaled                                                 3.402438\n",
      "dtype: object\n",
      "FEN           1B1r1rk1/p4ppp/2p2n2/2q5/2p5/1P3NPb/P1Q2P1P/RN...\n",
      "Evaluation                                               -20000\n",
      "scaled                                                -3.098599\n",
      "dtype: object\n"
     ]
    }
   ],
   "source": [
    "print(df.max())\n",
    "print(df.min())"
   ]
  }
 ],
 "metadata": {
  "kernelspec": {
   "display_name": ".venv",
   "language": "python",
   "name": "python3"
  },
  "language_info": {
   "codemirror_mode": {
    "name": "ipython",
    "version": 3
   },
   "file_extension": ".py",
   "mimetype": "text/x-python",
   "name": "python",
   "nbconvert_exporter": "python",
   "pygments_lexer": "ipython3",
   "version": "3.11.4"
  }
 },
 "nbformat": 4,
 "nbformat_minor": 2
}
